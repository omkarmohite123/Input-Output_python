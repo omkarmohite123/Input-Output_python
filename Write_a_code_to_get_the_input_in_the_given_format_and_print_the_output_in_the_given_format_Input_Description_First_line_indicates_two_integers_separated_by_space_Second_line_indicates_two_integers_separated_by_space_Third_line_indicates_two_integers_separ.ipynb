{
  "nbformat": 4,
  "nbformat_minor": 0,
  "metadata": {
    "colab": {
      "provenance": [],
      "authorship_tag": "ABX9TyNb+azuVe0aEoQ2lXycvI+n",
      "include_colab_link": true
    },
    "kernelspec": {
      "name": "python3",
      "display_name": "Python 3"
    },
    "language_info": {
      "name": "python"
    }
  },
  "cells": [
    {
      "cell_type": "markdown",
      "metadata": {
        "id": "view-in-github",
        "colab_type": "text"
      },
      "source": [
        "<a href=\"https://colab.research.google.com/github/omkarmohite123/Input-Output_python/blob/main/Write_a_code_to_get_the_input_in_the_given_format_and_print_the_output_in_the_given_format_Input_Description_First_line_indicates_two_integers_separated_by_space_Second_line_indicates_two_integers_separated_by_space_Third_line_indicates_two_integers_separ.ipynb\" target=\"_parent\"><img src=\"https://colab.research.google.com/assets/colab-badge.svg\" alt=\"Open In Colab\"/></a>"
      ]
    },
    {
      "cell_type": "code",
      "source": [
        "a=input()\n",
        "b=input()\n",
        "c=input()\n",
        "print(a)\n",
        "print(b)\n",
        "print(c)"
      ],
      "metadata": {
        "colab": {
          "base_uri": "https://localhost:8080/"
        },
        "id": "l4Ofy8YM1x8y",
        "outputId": "22511e75-278a-4912-e877-abc6582ed287"
      },
      "execution_count": 27,
      "outputs": [
        {
          "output_type": "stream",
          "name": "stdout",
          "text": [
            "2 4\n",
            "2 4\n",
            "2 4\n",
            "2 4\n",
            "2 4\n",
            "2 4\n"
          ]
        }
      ]
    }
  ]
}